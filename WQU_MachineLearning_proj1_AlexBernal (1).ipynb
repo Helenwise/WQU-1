{
 "cells": [
  {
   "cell_type": "code",
   "execution_count": 5,
   "metadata": {},
   "outputs": [],
   "source": [
    "from urllib2 import urlopen\n",
    "from bs4 import BeautifulSoup\n",
    "import datetime\n",
    "from math import ceil\n",
    "from lxml import etree"
   ]
  },
  {
   "cell_type": "code",
   "execution_count": 6,
   "metadata": {
    "collapsed": true
   },
   "outputs": [],
   "source": [
    "url=\"https://en.wikipedia.org/wiki/List_of_S%26P_500_companies\""
   ]
  },
  {
   "cell_type": "code",
   "execution_count": 8,
   "metadata": {},
   "outputs": [
    {
     "ename": "SyntaxError",
     "evalue": "invalid syntax (<ipython-input-8-23fd600aff3d>, line 13)",
     "output_type": "error",
     "traceback": [
      "\u001b[1;36m  File \u001b[1;32m\"<ipython-input-8-23fd600aff3d>\"\u001b[1;36m, line \u001b[1;32m13\u001b[0m\n\u001b[1;33m    sd={'ticker'}:tds[0].getchildren()[0].text,\u001b[0m\n\u001b[1;37m                 ^\u001b[0m\n\u001b[1;31mSyntaxError\u001b[0m\u001b[1;31m:\u001b[0m invalid syntax\n"
     ]
    }
   ],
   "source": [
    "def obtain_parse_wiki_snp500():\n",
    "    #stores the current time\n",
    "    now=datetime.datetime.utcnow()\n",
    "    page=urlopen(url)\n",
    "    htmlparser=etree.HTMLParser()\n",
    "    tree=etree.parse(page,htmlparser)\n",
    "    symbolslist=tree.xpath('//table[1]/tr')[1:]\n",
    "    \n",
    "    symbols=[]\n",
    "    for symbol in symbolslist:\n",
    "    \n",
    "        tds=symbol.getchildren()\n",
    "        sd={'ticker'}:tds[0].getchildren()[0].text,\n",
    "            'name':tds[1].getchildren()[0].text,\n",
    "            'sector':tds[3].text}\n",
    "symbols.append((sd['ticker'],'stock',sd['name'],'USD',now,now))\n",
    "\n",
    "    Return symbols"
   ]
  },
  {
   "cell_type": "code",
   "execution_count": null,
   "metadata": {
    "collapsed": true
   },
   "outputs": [],
   "source": []
  },
  {
   "cell_type": "code",
   "execution_count": 9,
   "metadata": {
    "collapsed": true
   },
   "outputs": [],
   "source": [
    "import sqlite3\n",
    "conn=sqlite3.connect('example.db')\n",
    "c=conn.cursor()"
   ]
  },
  {
   "cell_type": "code",
   "execution_count": 12,
   "metadata": {},
   "outputs": [
    {
     "name": "stderr",
     "output_type": "stream",
     "text": [
      "ERROR:root:An unexpected error occurred while tokenizing input\n",
      "The following traceback may be corrupted or invalid\n",
      "The error message is: ('EOF in multi-line string', (1, 71))\n",
      "\n"
     ]
    },
    {
     "ename": "OperationalError",
     "evalue": "table STOCKORDERS already exists",
     "output_type": "error",
     "traceback": [
      "\u001b[1;31m---------------------------------------------------------------------------\u001b[0m",
      "\u001b[1;31mOperationalError\u001b[0m                          Traceback (most recent call last)",
      "\u001b[1;32m<ipython-input-12-8fb8d65de87c>\u001b[0m in \u001b[0;36m<module>\u001b[1;34m()\u001b[0m\n\u001b[0;32m      1\u001b[0m \u001b[1;31m#Create table\u001b[0m\u001b[1;33m\u001b[0m\u001b[1;33m\u001b[0m\u001b[0m\n\u001b[0;32m      2\u001b[0m c.execute('''CREATE TABLE STOCKORDERS\n\u001b[1;32m----> 3\u001b[1;33m              (date text, trans text, symbol text, qty real, price real)''')\n\u001b[0m\u001b[0;32m      4\u001b[0m \u001b[1;33m\u001b[0m\u001b[0m\n\u001b[0;32m      5\u001b[0m \u001b[1;31m#insert a row of data\u001b[0m\u001b[1;33m\u001b[0m\u001b[1;33m\u001b[0m\u001b[0m\n",
      "\u001b[1;31mOperationalError\u001b[0m: table STOCKORDERS already exists"
     ]
    }
   ],
   "source": [
    "#Create table\n",
    "c.execute('''CREATE TABLE STOCKORDERS\n",
    "             (date text, trans text, symbol text, qty real, price real)''')\n",
    "\n",
    "#insert a row of data\n",
    "c.execute(\"INSERT INTO stocks VALUES ('2006-01-05','BUY','RHAT',100,35.14)\")\n",
    "\n",
    "#Save (commit) the changes\n",
    "conn.commit()\n",
    "\n",
    "#We can also close the connection if we are done with it.\n",
    "#just be sure any changes have been committed or they will be lost.\n",
    "conn.close()"
   ]
  },
  {
   "cell_type": "code",
   "execution_count": 15,
   "metadata": {},
   "outputs": [
    {
     "name": "stdout",
     "output_type": "stream",
     "text": [
      "None\n"
     ]
    }
   ],
   "source": [
    "import sqlite3\n",
    "conn = sqlite3.connect('example.db')\n",
    "c = conn.cursor()\n",
    "t=('RHAT',)\n",
    "\n",
    "c.execute('SELECT * FROM STOCKORDERS WHERE symbol=?',t)\n",
    "print(c.fetchone())"
   ]
  },
  {
   "cell_type": "code",
   "execution_count": 16,
   "metadata": {},
   "outputs": [
    {
     "ename": "OperationalError",
     "evalue": "no such table: stocks",
     "output_type": "error",
     "traceback": [
      "\u001b[1;31m---------------------------------------------------------------------------\u001b[0m",
      "\u001b[1;31mOperationalError\u001b[0m                          Traceback (most recent call last)",
      "\u001b[1;32m<ipython-input-16-61c6e0b3b511>\u001b[0m in \u001b[0;36m<module>\u001b[1;34m()\u001b[0m\n\u001b[0;32m      4\u001b[0m              \u001b[1;33m(\u001b[0m\u001b[1;34m'2006-04-06'\u001b[0m\u001b[1;33m,\u001b[0m \u001b[1;34m'SELL'\u001b[0m\u001b[1;33m,\u001b[0m \u001b[1;34m'IBM'\u001b[0m\u001b[1;33m,\u001b[0m \u001b[1;36m500\u001b[0m\u001b[1;33m,\u001b[0m \u001b[1;36m53.00\u001b[0m\u001b[1;33m)\u001b[0m\u001b[1;33m,\u001b[0m\u001b[1;33m\u001b[0m\u001b[0m\n\u001b[0;32m      5\u001b[0m             ]\n\u001b[1;32m----> 6\u001b[1;33m \u001b[0mc\u001b[0m\u001b[1;33m.\u001b[0m\u001b[0mexecutemany\u001b[0m\u001b[1;33m(\u001b[0m\u001b[1;34m'INSERT INTO stocks VALUES (?,?,?,?,?)'\u001b[0m\u001b[1;33m,\u001b[0m\u001b[0mpurchases\u001b[0m\u001b[1;33m)\u001b[0m\u001b[1;33m\u001b[0m\u001b[0m\n\u001b[0m\u001b[0;32m      7\u001b[0m \u001b[1;33m\u001b[0m\u001b[0m\n\u001b[0;32m      8\u001b[0m \u001b[1;32mfor\u001b[0m \u001b[0mrow\u001b[0m \u001b[1;32min\u001b[0m \u001b[0mc\u001b[0m\u001b[1;33m.\u001b[0m\u001b[0mexecute\u001b[0m\u001b[1;33m(\u001b[0m\u001b[1;34m'SELECT * FROM stocks ORDER BY price'\u001b[0m\u001b[1;33m)\u001b[0m\u001b[1;33m:\u001b[0m\u001b[1;33m\u001b[0m\u001b[0m\n",
      "\u001b[1;31mOperationalError\u001b[0m: no such table: stocks"
     ]
    }
   ],
   "source": [
    "#Larger example that inserts many redords at a time\n",
    "purchases = [('2006-03-28', 'BUY','IBM', 1000, 45.00),\n",
    "             ('2006-04-05', 'BUY', 'MSFT', 1000, 72.00),\n",
    "             ('2006-04-06', 'SELL', 'IBM', 500, 53.00),\n",
    "            ]\n",
    "c.executemany('INSERT INTO stocks VALUES (?,?,?,?,?)',purchases)\n",
    "\n",
    "for row in c.execute('SELECT * FROM stocks ORDER BY price'):\n",
    "    print(row)"
   ]
  },
  {
   "cell_type": "code",
   "execution_count": 22,
   "metadata": {},
   "outputs": [
    {
     "name": "stdout",
     "output_type": "stream",
     "text": [
      "Downloading data from Yahoo for industrials sector\n"
     ]
    },
    {
     "ename": "NameError",
     "evalue": "global name 'DataReader' is not defined",
     "output_type": "error",
     "traceback": [
      "\u001b[1;31m---------------------------------------------------------------------------\u001b[0m",
      "\u001b[1;31mNameError\u001b[0m                                 Traceback (most recent call last)",
      "\u001b[1;32m<ipython-input-22-960146f9ceba>\u001b[0m in \u001b[0;36m<module>\u001b[1;34m()\u001b[0m\n\u001b[0;32m     65\u001b[0m \u001b[1;33m\u001b[0m\u001b[0m\n\u001b[0;32m     66\u001b[0m \u001b[1;32mif\u001b[0m \u001b[0m__name__\u001b[0m \u001b[1;33m==\u001b[0m \u001b[1;34m'__main__'\u001b[0m\u001b[1;33m:\u001b[0m\u001b[1;33m\u001b[0m\u001b[0m\n\u001b[1;32m---> 67\u001b[1;33m     \u001b[0mget_snp500\u001b[0m\u001b[1;33m(\u001b[0m\u001b[1;33m)\u001b[0m\u001b[1;33m\u001b[0m\u001b[0m\n\u001b[0m",
      "\u001b[1;32m<ipython-input-22-960146f9ceba>\u001b[0m in \u001b[0;36mget_snp500\u001b[1;34m()\u001b[0m\n\u001b[0;32m     60\u001b[0m \u001b[1;32mdef\u001b[0m \u001b[0mget_snp500\u001b[0m\u001b[1;33m(\u001b[0m\u001b[1;33m)\u001b[0m\u001b[1;33m:\u001b[0m\u001b[1;33m\u001b[0m\u001b[0m\n\u001b[0;32m     61\u001b[0m     \u001b[0msector_tickers\u001b[0m \u001b[1;33m=\u001b[0m \u001b[0mscrape_list\u001b[0m\u001b[1;33m(\u001b[0m\u001b[0mSITE\u001b[0m\u001b[1;33m)\u001b[0m\u001b[1;33m\u001b[0m\u001b[0m\n\u001b[1;32m---> 62\u001b[1;33m     \u001b[0msector_ohlc\u001b[0m \u001b[1;33m=\u001b[0m \u001b[0mdownload_ohlc\u001b[0m\u001b[1;33m(\u001b[0m\u001b[0msector_tickers\u001b[0m\u001b[1;33m,\u001b[0m \u001b[0mSTART\u001b[0m\u001b[1;33m,\u001b[0m \u001b[0mEND\u001b[0m\u001b[1;33m)\u001b[0m\u001b[1;33m\u001b[0m\u001b[0m\n\u001b[0m\u001b[0;32m     63\u001b[0m     \u001b[0mstore_HDF5\u001b[0m\u001b[1;33m(\u001b[0m\u001b[0msector_ohlc\u001b[0m\u001b[1;33m,\u001b[0m \u001b[1;34m'snp500.h5'\u001b[0m\u001b[1;33m)\u001b[0m\u001b[1;33m\u001b[0m\u001b[0m\n\u001b[0;32m     64\u001b[0m \u001b[1;33m\u001b[0m\u001b[0m\n",
      "\u001b[1;32m<ipython-input-22-960146f9ceba>\u001b[0m in \u001b[0;36mdownload_ohlc\u001b[1;34m(sector_tickers, start, end)\u001b[0m\n\u001b[0;32m     40\u001b[0m     \u001b[1;32mfor\u001b[0m \u001b[0msector\u001b[0m\u001b[1;33m,\u001b[0m \u001b[0mtickers\u001b[0m \u001b[1;32min\u001b[0m \u001b[0msector_tickers\u001b[0m\u001b[1;33m.\u001b[0m\u001b[0miteritems\u001b[0m\u001b[1;33m(\u001b[0m\u001b[1;33m)\u001b[0m\u001b[1;33m:\u001b[0m\u001b[1;33m\u001b[0m\u001b[0m\n\u001b[0;32m     41\u001b[0m         \u001b[1;32mprint\u001b[0m \u001b[1;34m'Downloading data from Yahoo for %s sector'\u001b[0m \u001b[1;33m%\u001b[0m \u001b[0msector\u001b[0m\u001b[1;33m\u001b[0m\u001b[0m\n\u001b[1;32m---> 42\u001b[1;33m         \u001b[0mdata\u001b[0m \u001b[1;33m=\u001b[0m \u001b[0mDataReader\u001b[0m\u001b[1;33m(\u001b[0m\u001b[0mtickers\u001b[0m\u001b[1;33m,\u001b[0m \u001b[1;34m'yahoo'\u001b[0m\u001b[1;33m,\u001b[0m \u001b[0mstart\u001b[0m\u001b[1;33m,\u001b[0m \u001b[0mend\u001b[0m\u001b[1;33m)\u001b[0m\u001b[1;33m\u001b[0m\u001b[0m\n\u001b[0m\u001b[0;32m     43\u001b[0m         \u001b[1;32mfor\u001b[0m \u001b[0mitem\u001b[0m \u001b[1;32min\u001b[0m \u001b[1;33m[\u001b[0m\u001b[1;34m'Open'\u001b[0m\u001b[1;33m,\u001b[0m \u001b[1;34m'High'\u001b[0m\u001b[1;33m,\u001b[0m \u001b[1;34m'Low'\u001b[0m\u001b[1;33m]\u001b[0m\u001b[1;33m:\u001b[0m\u001b[1;33m\u001b[0m\u001b[0m\n\u001b[0;32m     44\u001b[0m             \u001b[0mdata\u001b[0m\u001b[1;33m[\u001b[0m\u001b[0mitem\u001b[0m\u001b[1;33m]\u001b[0m \u001b[1;33m=\u001b[0m \u001b[0mdata\u001b[0m\u001b[1;33m[\u001b[0m\u001b[0mitem\u001b[0m\u001b[1;33m]\u001b[0m \u001b[1;33m*\u001b[0m \u001b[0mdata\u001b[0m\u001b[1;33m[\u001b[0m\u001b[1;34m'Adj Close'\u001b[0m\u001b[1;33m]\u001b[0m \u001b[1;33m/\u001b[0m \u001b[0mdata\u001b[0m\u001b[1;33m[\u001b[0m\u001b[1;34m'Close'\u001b[0m\u001b[1;33m]\u001b[0m\u001b[1;33m\u001b[0m\u001b[0m\n",
      "\u001b[1;31mNameError\u001b[0m: global name 'DataReader' is not defined"
     ]
    }
   ],
   "source": [
    "#!/usr/bin/env python\n",
    "\n",
    "import urllib2\n",
    "import pytz\n",
    "\n",
    "import pandas as pd\n",
    "from pandas_datareader import data, wb\n",
    "\n",
    "from bs4 import BeautifulSoup\n",
    "from datetime import datetime\n",
    "\n",
    "\n",
    "\n",
    "SITE = \"http://en.wikipedia.org/wiki/List_of_S%26P_500_companies\"\n",
    "START = datetime(1900, 1, 1, 0, 0, 0, 0, pytz.utc)\n",
    "END = datetime.today().utcnow()\n",
    "\n",
    "\n",
    "def scrape_list(site):\n",
    "    hdr = {'User-Agent': 'Mozilla/5.0'}\n",
    "    req = urllib2.Request(site, headers=hdr)\n",
    "    page = urllib2.urlopen(req)\n",
    "    soup = BeautifulSoup(page)\n",
    "\n",
    "    table = soup.find('table', {'class': 'wikitable sortable'})\n",
    "    sector_tickers = dict()\n",
    "    for row in table.findAll('tr'):\n",
    "        col = row.findAll('td')\n",
    "        if len(col) > 0:\n",
    "            sector = str(col[3].string.strip()).lower().replace(' ', '_')\n",
    "            ticker = str(col[0].string.strip())\n",
    "            if sector not in sector_tickers:\n",
    "                sector_tickers[sector] = list()\n",
    "            sector_tickers[sector].append(ticker)\n",
    "    return sector_tickers\n",
    "\n",
    "\n",
    "def download_ohlc(sector_tickers, start, end):\n",
    "    sector_ohlc = {}\n",
    "    for sector, tickers in sector_tickers.iteritems():\n",
    "        print 'Downloading data from Yahoo for %s sector' % sector\n",
    "        data = DataReader(tickers, 'yahoo', start, end)\n",
    "        for item in ['Open', 'High', 'Low']:\n",
    "            data[item] = data[item] * data['Adj Close'] / data['Close']\n",
    "        data.rename(items={'Open': 'open', 'High': 'high', 'Low': 'low',\n",
    "                           'Adj Close': 'close', 'Volume': 'volume'},\n",
    "                    inplace=True)\n",
    "        data.drop(['Close'], inplace=True)\n",
    "        sector_ohlc[sector] = data\n",
    "    print 'Finished downloading data'\n",
    "    return sector_ohlc\n",
    "\n",
    "\n",
    "def store_HDF5(sector_ohlc, path):\n",
    "    with pd.get_store(path) as store:\n",
    "        for sector, ohlc in sector_ohlc.iteritems():\n",
    "            store[sector] = ohlc\n",
    "\n",
    "\n",
    "def get_snp500():\n",
    "    sector_tickers = scrape_list(SITE)\n",
    "    sector_ohlc = download_ohlc(sector_tickers, START, END)\n",
    "    store_HDF5(sector_ohlc, 'snp500.h5')\n",
    "\n",
    "\n",
    "if __name__ == '__main__':\n",
    "    get_snp500()"
   ]
  },
  {
   "cell_type": "markdown",
   "metadata": {
    "collapsed": true
   },
   "source": [
    "** Below is the code to scrap and build a stock database in R**"
   ]
  },
  {
   "cell_type": "code",
   "execution_count": 2,
   "metadata": {},
   "outputs": [
    {
     "ename": "SyntaxError",
     "evalue": "invalid syntax (<ipython-input-2-d540eb28cf90>, line 11)",
     "output_type": "error",
     "traceback": [
      "\u001b[1;36m  File \u001b[1;32m\"<ipython-input-2-d540eb28cf90>\"\u001b[1;36m, line \u001b[1;32m11\u001b[0m\n\u001b[1;33m    quandl_get <-\u001b[0m\n\u001b[1;37m                 ^\u001b[0m\n\u001b[1;31mSyntaxError\u001b[0m\u001b[1;31m:\u001b[0m invalid syntax\n"
     ]
    }
   ],
   "source": [
    "\n",
    "# Quandl package must be installed\n",
    "library(Quandl)\n",
    " \n",
    "# Get your API key from quandl.com\n",
    "quandl_api = \"MYAPIKEY\"\n",
    " \n",
    "# Add the key to the Quandl keychain\n",
    "Quandl.api_key(quandl_api)\n",
    " \n",
    "quandl_get <-\n",
    "function(sym, start_date = \"2017-01-01\") {\n",
    "    require(devtools)\n",
    "    require(Quandl)\n",
    "    # create a vector with all lines\n",
    "    tryCatch(Quandl(c(\n",
    "        paste0(\"WIKI/\", sym, \".8\"),  #  Adj. Open\n",
    "        paste0(\"WIKI/\", sym, \".9\"),  # Adj. High\n",
    "        paste0(\"WIKI/\", sym, \".10\"), # Adj. Low\n",
    "        paste0(\"WIKI/\", sym, \".11\"), # Adj. Close\n",
    "        paste0(\"WIKI/\", sym, \".12\")), # Adj. Volume\n",
    "        start_date = start_date,\n",
    "        type = \"zoo\"\n",
    "        ))\n",
    "}"
   ]
  },
  {
   "cell_type": "code",
   "execution_count": null,
   "metadata": {
    "collapsed": true
   },
   "outputs": [],
   "source": [
    "# Load list of symbols (Updated May 2017)\n",
    "SYM <- as.character( read.csv('http://trading.chrisconlan.com/SPstocks_current.csv', \n",
    "                              stringsAsFactors = FALSE, header = FALSE)[,1] )\n",
    " \n",
    " \n",
    "# Hold stock data and vector of invalid requests\n",
    "DATA <- list()\n",
    "INVALID <- c()\n",
    " \n",
    "# Attempt to fetch each symbol\n",
    "for(sym in SYM){\n",
    "  google_out <- google(sym)\n",
    "   \n",
    "  if(!is.null(google_out)) {\n",
    "    DATA[[sym]] <- google_out\n",
    "  } else {\n",
    "    INVALID <- c(INVALID, sym)\n",
    "  }\n",
    "}\n",
    " \n",
    "# Overwrite with only valid symbols\n",
    "SYM <- names(DATA)\n",
    " \n",
    "# Remove iteration variables\n",
    "rm(google_out, sym)\n",
    " \n",
    "cat(\"Successfully download\", length(DATA), \"symbols.\")\n",
    "cat(length(INVALID), \"invalid symbols requested.\\n\", paste(INVALID, collapse = \"\\n\\t\"))\n",
    "cat(\"We now have a list of data frames of each symbol.\")\n",
    "cat(\"e.g. access MMM price history with DATA[['MMM']]\")"
   ]
  }
 ],
 "metadata": {
  "kernelspec": {
   "display_name": "Python 2",
   "language": "python",
   "name": "python2"
  },
  "language_info": {
   "codemirror_mode": {
    "name": "ipython",
    "version": 2
   },
   "file_extension": ".py",
   "mimetype": "text/x-python",
   "name": "python",
   "nbconvert_exporter": "python",
   "pygments_lexer": "ipython2",
   "version": "2.7.14"
  }
 },
 "nbformat": 4,
 "nbformat_minor": 2
}
